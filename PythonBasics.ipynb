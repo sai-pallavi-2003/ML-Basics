{
  "nbformat": 4,
  "nbformat_minor": 0,
  "metadata": {
    "colab": {
      "name": "PythonBasics.ipynb",
      "provenance": [],
      "authorship_tag": "ABX9TyP9OgrwKahOTbjKKC/nCNfW"
    },
    "kernelspec": {
      "name": "python3",
      "display_name": "Python 3"
    },
    "language_info": {
      "name": "python"
    }
  },
  "cells": [
    {
      "cell_type": "markdown",
      "source": [
        "# Python Basics"
      ],
      "metadata": {
        "id": "Hb15634VpuCa"
      }
    },
    {
      "cell_type": "markdown",
      "source": [
        "**Printing Statements**"
      ],
      "metadata": {
        "id": "j-_huyrnq8M2"
      }
    },
    {
      "cell_type": "code",
      "execution_count": 1,
      "metadata": {
        "colab": {
          "base_uri": "https://localhost:8080/"
        },
        "id": "zVHlfyuLpovf",
        "outputId": "7a5a260d-2a48-4248-917c-69908bd8fe41"
      },
      "outputs": [
        {
          "output_type": "stream",
          "name": "stdout",
          "text": [
            "Hello world\n",
            "Hello World\n"
          ]
        }
      ],
      "source": [
        "print(\"Hello world\")\n",
        "print('Hello World')\n",
        "#text can be written either in single quotes or double quotes"
      ]
    },
    {
      "cell_type": "code",
      "source": [
        "print(\"Hello World today is \\n monday\")\n",
        "#\\n is used to print in a new line \n",
        "print('Hello World today is \\t monday')\n",
        "#\\t is used for tab"
      ],
      "metadata": {
        "colab": {
          "base_uri": "https://localhost:8080/"
        },
        "id": "_-YMhxpFrTtx",
        "outputId": "b06de538-86a6-4f76-b123-f22b543969eb"
      },
      "execution_count": 3,
      "outputs": [
        {
          "output_type": "stream",
          "name": "stdout",
          "text": [
            "Hello World today is \n",
            " monday\n",
            "Hello World today is \t monday\n"
          ]
        }
      ]
    },
    {
      "cell_type": "markdown",
      "source": [
        "**Variables and Arithmetic**"
      ],
      "metadata": {
        "id": "pIJwTHuHr59f"
      }
    },
    {
      "cell_type": "markdown",
      "source": [
        "Variables"
      ],
      "metadata": {
        "id": "cuc2do8WuBn_"
      }
    },
    {
      "cell_type": "code",
      "source": [
        "#variables are like containers which are ussed to store values, and re-use them in the code\n",
        "#values are assigned to variables by using the assignment operator \"=\"\n",
        "my_int = 10\n",
        "my_float = 10.10\n",
        "my_name = 'Python'\n",
        "my_bool = False \n",
        "(my_int,my_float,my_name,my_bool)\n",
        "# We can write variable names at the bottom of our cell to see them print out"
      ],
      "metadata": {
        "colab": {
          "base_uri": "https://localhost:8080/"
        },
        "id": "19xbGNrtsHmb",
        "outputId": "27f39f43-2690-4db3-ceae-fd5382e3e855"
      },
      "execution_count": 8,
      "outputs": [
        {
          "output_type": "execute_result",
          "data": {
            "text/plain": [
              "(10, 10.1, 'Python', False)"
            ]
          },
          "metadata": {},
          "execution_count": 8
        }
      ]
    },
    {
      "cell_type": "code",
      "source": [
        "my_name = 'Pallavi'\n",
        "my_age = 18\n",
        "my_country = \"India\"\n",
        "print(\"I am \"+my_name+\", a \"+str(my_age)+\" old from \"+my_country)\n",
        "#my_age variable contains a number and we cannot concatenate a string and a number. "
      ],
      "metadata": {
        "colab": {
          "base_uri": "https://localhost:8080/"
        },
        "id": "T9CBoFiIuD4k",
        "outputId": "3bcbf5b4-c781-4835-ed14-f3dedbcc494a"
      },
      "execution_count": 13,
      "outputs": [
        {
          "output_type": "stream",
          "name": "stdout",
          "text": [
            "I am Will, a 25 old from USA\n"
          ]
        }
      ]
    },
    {
      "cell_type": "markdown",
      "source": [
        "Arithmetic"
      ],
      "metadata": {
        "id": "a5ig_yUgyPSp"
      }
    },
    {
      "cell_type": "code",
      "source": [
        "# With numbers we can add, subtract, multipy and divide\n",
        "a = 25\n",
        "b = 5\n",
        "a_plus_b = a + b\n",
        "a_minus_b = a - b\n",
        "a_times_b = a * b\n",
        "a_divided_by_b = a / b\n",
        "a_power_b = a**b\n",
        "\n",
        "a_plus_b, a_minus_b, a_times_b, a_divided_by_b,a_power_b"
      ],
      "metadata": {
        "colab": {
          "base_uri": "https://localhost:8080/"
        },
        "id": "tXU3EOLAyR2m",
        "outputId": "9f6c3240-1a91-4889-b7e9-d978a3b3fbd7"
      },
      "execution_count": 14,
      "outputs": [
        {
          "output_type": "execute_result",
          "data": {
            "text/plain": [
              "(30, 20, 125, 5.0, 9765625)"
            ]
          },
          "metadata": {},
          "execution_count": 14
        }
      ]
    },
    {
      "cell_type": "code",
      "source": [
        "# Grouping things or numbers will help in evaluating using Precedence\n",
        "calculation_one = (12 - 6) / 2\n",
        "calculation_two = 12 - (6 / 2)\n",
        "\n",
        "calculation_one, calculation_two"
      ],
      "metadata": {
        "colab": {
          "base_uri": "https://localhost:8080/"
        },
        "id": "90bJ3ZaAyomz",
        "outputId": "d9e8c728-20ae-4eb0-d58e-601dd338bf08"
      },
      "execution_count": 15,
      "outputs": [
        {
          "output_type": "execute_result",
          "data": {
            "text/plain": [
              "(3.0, 9.0)"
            ]
          },
          "metadata": {},
          "execution_count": 15
        }
      ]
    },
    {
      "cell_type": "code",
      "source": [
        "# Altering the value of a variable \n",
        "day_of_the_month = 9\n",
        "day_of_the_month += 1\n",
        "\n",
        "day_of_the_month\n",
        "# the variables always store the latest value "
      ],
      "metadata": {
        "colab": {
          "base_uri": "https://localhost:8080/"
        },
        "id": "ibzsHJQxy2pz",
        "outputId": "e9989cf8-8d4f-4629-c28c-a4159f4c0c32"
      },
      "execution_count": 16,
      "outputs": [
        {
          "output_type": "execute_result",
          "data": {
            "text/plain": [
              "10"
            ]
          },
          "metadata": {},
          "execution_count": 16
        }
      ]
    },
    {
      "cell_type": "markdown",
      "source": [
        "**Strings**"
      ],
      "metadata": {
        "id": "Q5U2wh2LzQKC"
      }
    },
    {
      "cell_type": "code",
      "source": [
        "# We can use the + operator to concatenate strings\n",
        "my_name = 'Pallavi'\n",
        "greeting = 'Hello ' + my_name + '!'\n",
        "\n",
        "greeting"
      ],
      "metadata": {
        "colab": {
          "base_uri": "https://localhost:8080/",
          "height": 35
        },
        "id": "pEnn9f5Pzb3a",
        "outputId": "94f25d19-e2db-46c1-c9ef-506fd0fb25fe"
      },
      "execution_count": 17,
      "outputs": [
        {
          "output_type": "execute_result",
          "data": {
            "application/vnd.google.colaboratory.intrinsic+json": {
              "type": "string"
            },
            "text/plain": [
              "'Hello Pallavi!'"
            ]
          },
          "metadata": {},
          "execution_count": 17
        }
      ]
    },
    {
      "cell_type": "code",
      "source": [
        "# Put an `f` before your string, then you can include variable names between {curly braces}\n",
        "# putting a format behind the string will allow to add the value of variable\n",
        "drink_name = 'coffee'\n",
        "fun_fact1 = f'My favorite coffee drink is a {drink_name}. It\\'s the best!'\n",
        "fun_fact2 = \"I like {name}\".format(name= \"cofee\")\n",
        "\n",
        "fun_fact1, fun_fact2"
      ],
      "metadata": {
        "colab": {
          "base_uri": "https://localhost:8080/"
        },
        "id": "8FUhAMEF0bHG",
        "outputId": "a5fd23d9-2ea6-4dc6-f185-d708156afec1"
      },
      "execution_count": 22,
      "outputs": [
        {
          "output_type": "execute_result",
          "data": {
            "text/plain": [
              "(\"My favorite coffee drink is a coffee. It's the best!\", 'I like cofee')"
            ]
          },
          "metadata": {},
          "execution_count": 22
        }
      ]
    },
    {
      "cell_type": "code",
      "source": [
        "# We can also get the length of a string\n",
        "oh_the_places_youll_go = 'congratulations today is your day, you\\'re off to great places you\\'re off and away'\n",
        "\n",
        "print(len(oh_the_places_youll_go))\n",
        "# And we can pull out specific letters from the string with [square brackets]\n",
        "\n",
        "# We start counting from 0, so this will give us our 6th letter\n",
        "oh_the_places_youll_go[5]"
      ],
      "metadata": {
        "colab": {
          "base_uri": "https://localhost:8080/",
          "height": 53
        },
        "id": "sSX6yMY11YyE",
        "outputId": "9493003d-f84c-4de3-ed05-9f77bb1e09c5"
      },
      "execution_count": 24,
      "outputs": [
        {
          "output_type": "stream",
          "name": "stdout",
          "text": [
            "81\n"
          ]
        },
        {
          "output_type": "execute_result",
          "data": {
            "application/vnd.google.colaboratory.intrinsic+json": {
              "type": "string"
            },
            "text/plain": [
              "'a'"
            ]
          },
          "metadata": {},
          "execution_count": 24
        }
      ]
    },
    {
      "cell_type": "markdown",
      "source": [
        "**String Manipulations**\n",
        "\n",
        "\n",
        "Strings are a special type of a python class. As objects, in a class, you can call methods on string objects using the .methodName() notation. The string class is available by default in python, so you do not need an import statement to use the object interface to strings."
      ],
      "metadata": {
        "id": "4hxQ33133AcC"
      }
    },
    {
      "cell_type": "code",
      "source": [
        "print(my_name.lower())\n",
        "print(my_name.upper())"
      ],
      "metadata": {
        "colab": {
          "base_uri": "https://localhost:8080/"
        },
        "id": "ILiN0S7r3DvK",
        "outputId": "d7e487d3-e4b8-4f3a-c66d-3ad5b245b7af"
      },
      "execution_count": 27,
      "outputs": [
        {
          "output_type": "stream",
          "name": "stdout",
          "text": [
            "pallavi\n",
            "PALLAVI\n"
          ]
        }
      ]
    },
    {
      "cell_type": "code",
      "source": [
        "a = \"0\" * 3 \n",
        "b = 0*3\n",
        "a,b"
      ],
      "metadata": {
        "colab": {
          "base_uri": "https://localhost:8080/"
        },
        "id": "4p5Qm22h3yWe",
        "outputId": "f4b76c77-603b-4fba-fa24-b9f2de0c2521"
      },
      "execution_count": 30,
      "outputs": [
        {
          "output_type": "execute_result",
          "data": {
            "text/plain": [
              "('000', 0)"
            ]
          },
          "metadata": {},
          "execution_count": 30
        }
      ]
    },
    {
      "cell_type": "code",
      "source": [
        "a = \"hello world\"\n",
        "a = a.split()\n",
        "b = ''.join(a)\n",
        "a,b"
      ],
      "metadata": {
        "colab": {
          "base_uri": "https://localhost:8080/"
        },
        "id": "Jk4j62rt4D0m",
        "outputId": "dd037cb7-94ba-4289-98e0-af16b6b3f10c"
      },
      "execution_count": 34,
      "outputs": [
        {
          "output_type": "execute_result",
          "data": {
            "text/plain": [
              "(['hello', 'world'], 'helloworld')"
            ]
          },
          "metadata": {},
          "execution_count": 34
        }
      ]
    },
    {
      "cell_type": "markdown",
      "source": [
        "**Booleans**"
      ],
      "metadata": {
        "id": "Wbss4bi81y0p"
      }
    },
    {
      "cell_type": "code",
      "source": [
        "# Booleans are always either True or False\n",
        "\n",
        "pallavi_in_india = True\n",
        "i_hate_coffee = False\n",
        "\n",
        "# We can use `and`, `or`, and `not` to play with our booleans\n",
        "\n",
        "pallavi_in_india and i_hate_coffee, i_hate_coffee or pallavi_in_india, i_hate_coffee and not pallavi_in_india"
      ],
      "metadata": {
        "colab": {
          "base_uri": "https://localhost:8080/"
        },
        "id": "7v1Ohu6b11R4",
        "outputId": "a648519c-c42c-4d39-cd66-3cd76cf96462"
      },
      "execution_count": 26,
      "outputs": [
        {
          "output_type": "execute_result",
          "data": {
            "text/plain": [
              "(False, True, False)"
            ]
          },
          "metadata": {},
          "execution_count": 26
        }
      ]
    }
  ]
}