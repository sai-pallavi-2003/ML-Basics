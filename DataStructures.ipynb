{
  "nbformat": 4,
  "nbformat_minor": 0,
  "metadata": {
    "colab": {
      "name": "Untitled1.ipynb",
      "provenance": [],
      "authorship_tag": "ABX9TyO23j6TWUj5ezLwEn0aIQiq"
    },
    "kernelspec": {
      "name": "python3",
      "display_name": "Python 3"
    },
    "language_info": {
      "name": "python"
    }
  },
  "cells": [
    {
      "cell_type": "markdown",
      "source": [
        "# Data Structures In Python\n",
        "The four important and useful Data Structures in Python are:\n",
        "1. Lists\n",
        "2. Tuples\n",
        "3. Dictionaries\n",
        "4. Sets\n"
      ],
      "metadata": {
        "id": "sjg-4RTP1TnF"
      }
    },
    {
      "cell_type": "markdown",
      "source": [
        "Lists\n",
        "\n",
        "\n",
        "1.   Lists are \n",
        "2.   List item\n",
        "\n"
      ],
      "metadata": {
        "id": "T0DpBBKjMs69"
      }
    },
    {
      "cell_type": "code",
      "execution_count": null,
      "metadata": {
        "id": "BlUA3BkNyR-u"
      },
      "outputs": [],
      "source": [
        ""
      ]
    }
  ]
}