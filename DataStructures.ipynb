{
  "nbformat": 4,
  "nbformat_minor": 0,
  "metadata": {
    "colab": {
      "name": "Untitled1.ipynb",
      "provenance": [],
      "authorship_tag": "ABX9TyMyY2uA/8nukGAAJYO+eyKl"
    },
    "kernelspec": {
      "name": "python3",
      "display_name": "Python 3"
    },
    "language_info": {
      "name": "python"
    }
  },
  "cells": [
    {
      "cell_type": "code",
      "execution_count": null,
      "metadata": {
        "id": "BlUA3BkNyR-u"
      },
      "outputs": [],
      "source": [
        "# initialization methods\n",
        "\n",
        "#1. Normal Method\n",
        "thislist = [\"apple\", \"banana\", \"cherry\"]\n",
        "print(thislist)\n",
        "\n",
        "#2. Constructor method\n",
        "thislist = list((\"apple\", \"banana\", \"mango\"))\n",
        "print(thislist)"
      ]
    }
  ]
}