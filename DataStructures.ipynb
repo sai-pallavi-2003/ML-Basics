{
  "nbformat": 4,
  "nbformat_minor": 0,
  "metadata": {
    "colab": {
      "name": "Untitled1.ipynb",
      "provenance": [],
      "authorship_tag": "ABX9TyOVaLVyGmD4S0ME0sAfWhXA"
    },
    "kernelspec": {
      "name": "python3",
      "display_name": "Python 3"
    },
    "language_info": {
      "name": "python"
    }
  },
  "cells": [
    {
      "cell_type": "markdown",
      "source": [
        "# Data Structures In Python\n",
        "The four important and useful Data Structures in Python are:\n",
        "1. Lists\n",
        "2. Tuples\n",
        "3. Dictionaries\n",
        "4. Sets\n"
      ],
      "metadata": {
        "id": "sjg-4RTP1TnF"
      }
    },
    {
      "cell_type": "markdown",
      "source": [
        "Lists\n",
        "\n",
        "\n",
        "1.   Lists are used for storing multiple objects under a single variable.\n",
        "2.   A single list can contain various datatypes\n",
        "3.   Lists are Ordered, changeable, mutable and they allow duplicate values.\n",
        "4.   Lists can even contain complex objects, like functions, classes, and modules.\n",
        "5.  There is no limit to the memory of lists it can store as many as the computer memory allows \n",
        "6.  Lists are dynamic i.e., their size can be altered accordingly and it doesn't have to be taken care of manually \n",
        "7.  Elements of a list can be accessed via an index and the indexing starts from 0.\n",
        "8.  \n",
        "\n"
      ],
      "metadata": {
        "id": "T0DpBBKjMs69"
      }
    },
    {
      "cell_type": "markdown",
      "source": [
        "**Creating Lists**\n",
        "\n",
        "a list can either be created by mentioning the elements enclosed in square brackets or by using the keyword 'list'\n",
        " using the list keyword enables all the elements inside the given pair of *double brackets* to be converted into a list.\n",
        " we can check the datatype of the list by using the keyword 'type'\n",
        "lists can have duplicates and the length is found out by using 'len' keyword"
      ],
      "metadata": {
        "id": "BMkUq8GjBsw8"
      }
    },
    {
      "cell_type": "code",
      "source": [
        "my_list = ['Will','Pallavi','Hermoine','25','True']\n",
        "print(type(my_list))\n",
        "my_new_list = list(('Will','Haary','Adams'))\n",
        "print(type(my_new_list))\n",
        "my_List = list(('0','Hi','True','12.5'))\n",
        "print(len(my_List))"
      ],
      "metadata": {
        "id": "j0ES4jpSBrCq",
        "outputId": "03d04c05-e965-467d-f65d-c0ee974b231f",
        "colab": {
          "base_uri": "https://localhost:8080/"
        }
      },
      "execution_count": 5,
      "outputs": [
        {
          "output_type": "stream",
          "name": "stdout",
          "text": [
            "<class 'list'>\n",
            "<class 'list'>\n",
            "4\n"
          ]
        }
      ]
    },
    {
      "cell_type": "markdown",
      "source": [
        "**Accessing list elements and Slicing in lists**\n",
        "\n",
        "indexing of a list starts from 0, negative indexing starts from the end.\n",
        "0 is the index of first element, -1 is the index of last element \n",
        "Slicing:\n"
      ],
      "metadata": {
        "id": "0yXcSmbgFnpS"
      }
    },
    {
      "cell_type": "code",
      "source": [
        "\n",
        "print(my_List[1])\n",
        "print(my_new_list[-2])"
      ],
      "metadata": {
        "id": "UPEgMPT1Fis8",
        "outputId": "5d165dc6-bca9-4f56-f8ac-c8c0121c1ffc",
        "colab": {
          "base_uri": "https://localhost:8080/"
        }
      },
      "execution_count": 9,
      "outputs": [
        {
          "output_type": "stream",
          "name": "stdout",
          "text": [
            "Hi\n",
            "Haary\n"
          ]
        }
      ]
    },
    {
      "cell_type": "code",
      "execution_count": null,
      "metadata": {
        "id": "BlUA3BkNyR-u"
      },
      "outputs": [],
      "source": [
        ""
      ]
    }
  ]
}